{
 "cells": [
  {
   "cell_type": "markdown",
   "id": "5de0b2cb-bc08-4155-afb0-8c2b3ac5974f",
   "metadata": {},
   "source": [
    "## **Web scraping a Boom Studio! **"
   ]
  },
  {
   "cell_type": "markdown",
   "id": "a0c18e12-77c7-4cc6-990e-5d26cea82336",
   "metadata": {},
   "source": [
    "*1. Importar llibreries*"
   ]
  },
  {
   "cell_type": "code",
   "execution_count": 63,
   "id": "552f506e-be32-452f-b596-d60a4a595d3c",
   "metadata": {},
   "outputs": [],
   "source": [
    "import requests\n",
    "from bs4 import BeautifulSoup"
   ]
  },
  {
   "cell_type": "markdown",
   "id": "73e01be2-4cb1-4fd2-9d0a-f1b7cdb49809",
   "metadata": {},
   "source": [
    "*2.scraping web de Boom Studi!*"
   ]
  },
  {
   "cell_type": "code",
   "execution_count": 223,
   "id": "1da6875a-0d53-4fd1-9dd0-99fe83e5ca3e",
   "metadata": {},
   "outputs": [
    {
     "name": "stdout",
     "output_type": "stream",
     "text": [
      "<!doctype html>\n",
      "<html lang=\"en-US\">\n",
      "<head>\n",
      "\t<meta charset=\"UTF-8\">\n",
      "\t<meta name=\"viewport\" content=\"width=device-width, initial-scale=1\">\n",
      "\t<link rel=\"profile\" href=\"https://gmpg.org/xfn/11\">\n",
      "\t<title>BOOM! Studios</title>\n",
      "<meta name=\"description\" content=\"Boom!\">\n",
      "<meta name=\"robots\" content=\"index, follow, max-snippet:-1, max-image-preview:large, max-video-preview:-1\">\n",
      "<link rel=\"canonical\" href=\"https://www.boom-studios.com/\">\n",
      "<script id=\"website-schema\" type=\"application/ld+json\">{\"@context\":\"ht\n"
     ]
    }
   ],
   "source": [
    "from requests import get\n",
    "url = 'https://shop.boom-studios.com/collections/collections'\n",
    "response = get(url)\n",
    "if response.status_code == 200:\n",
    "    print(response.text[:500])"
   ]
  },
  {
   "cell_type": "code",
   "execution_count": 186,
   "id": "176c2f6f-0967-4056-8a63-4ddef247335f",
   "metadata": {},
   "outputs": [
    {
     "data": {
      "text/plain": [
       "bs4.BeautifulSoup"
      ]
     },
     "execution_count": 186,
     "metadata": {},
     "output_type": "execute_result"
    }
   ],
   "source": [
    "soup = BeautifulSoup(response.text, 'html.parser')\n",
    "type(soup)"
   ]
  },
  {
   "cell_type": "markdown",
   "id": "df94beb3-86c8-41cd-bffc-be9ceea62c95",
   "metadata": {},
   "source": [
    "*3. Contingut de productes o comics*"
   ]
  },
  {
   "cell_type": "code",
   "execution_count": 194,
   "id": "c642db05-ac8a-4ddf-8e47-9804039d7b59",
   "metadata": {},
   "outputs": [
    {
     "name": "stdout",
     "output_type": "stream",
     "text": [
      "comics: <class 'bs4.element.ResultSet'>\n",
      "Longitud: 60\n"
     ]
    }
   ],
   "source": [
    "comics = soup.find_all('div', class_='grid grid--uniform grid--collection')\n",
    "print('comics:', type(comics))\n",
    "print('Longitud:', len(comics))"
   ]
  },
  {
   "cell_type": "markdown",
   "id": "ec721502-3fc4-4bae-b151-022494d86b03",
   "metadata": {},
   "source": [
    "*4. Esbrinar quin és el primer producte de la pàgina*"
   ]
  },
  {
   "cell_type": "code",
   "execution_count": 206,
   "id": "31a3ef9d-5edd-4a85-9ff7-2301e69cc6af",
   "metadata": {},
   "outputs": [
    {
     "name": "stdout",
     "output_type": "stream",
     "text": [
      "<div class=\"grid-product__content\"><a class=\"grid-product__link\" href=\"/collections/collections/products/a-thief-among-the-trees-an-ember-in-the-ashes-graphic-novel-le-hc\">\n",
      "<div class=\"grid-product__image-mask\"><div class=\"quick-product__btn quick-product__btn--not-ready js-modal-open-quick-modal-6120196178087 small--hide\" data-product-id=\"6120196178087\">\n",
      "<span class=\"quick-product__label\">Quick view</span>\n",
      "</div><div class=\"image-wrap\" style=\"height: 0; padding-bottom: 140.67127344521225%;\">\n",
      "<img alt=\"\" class=\"grid-product__image lazyload\" data-aspectratio=\"0.7108771929824561\" data-sizes=\"auto\" data-src=\"//shop.boom-studios.com/cdn/shop/products/EmberAshes_ThiefAmongTrees_HC_Cover_Limited_LOW_{width}x.jpg?v=1607991817\" data-widths=\"[180, 360, 540, 720, 900, 1080]\"/>\n",
      "<noscript>\n",
      "<img alt=\"\" class=\"grid-product__image lazyloaded\" src=\"//shop.boom-studios.com/cdn/shop/products/EmberAshes_ThiefAmongTrees_HC_Cover_Limited_LOW_400x.jpg?v=1607991817\"/>\n",
      "</noscript>\n",
      "</div></div>\n",
      "<div class=\"grid-product__meta\">\n",
      "<div class=\"grid-product__title grid-product__title--body\">A Thief Among the Trees: An Ember In the Ashes Graphic Novel Limited Edition Hardcover</div><div class=\"grid-product__price\">$39.99\n",
      "</div></div>\n",
      "</a>\n",
      "</div>\n"
     ]
    }
   ],
   "source": [
    "primer_comic = comics[0]\n",
    "print(primer_comic)"
   ]
  },
  {
   "cell_type": "code",
   "execution_count": 211,
   "id": "0c9980e3-2e8c-4d48-8a09-3cb0c23f3342",
   "metadata": {},
   "outputs": [
    {
     "name": "stdout",
     "output_type": "stream",
     "text": [
      "<a class=\"grid-product__link\" href=\"/collections/collections/products/a-thief-among-the-trees-an-ember-in-the-ashes-graphic-novel-le-hc\">\n",
      "<div class=\"grid-product__image-mask\"><div class=\"quick-product__btn quick-product__btn--not-ready js-modal-open-quick-modal-6120196178087 small--hide\" data-product-id=\"6120196178087\">\n",
      "<span class=\"quick-product__label\">Quick view</span>\n",
      "</div><div class=\"image-wrap\" style=\"height: 0; padding-bottom: 140.67127344521225%;\">\n",
      "<img alt=\"\" class=\"grid-product__image lazyload\" data-aspectratio=\"0.7108771929824561\" data-sizes=\"auto\" data-src=\"//shop.boom-studios.com/cdn/shop/products/EmberAshes_ThiefAmongTrees_HC_Cover_Limited_LOW_{width}x.jpg?v=1607991817\" data-widths=\"[180, 360, 540, 720, 900, 1080]\"/>\n",
      "<noscript>\n",
      "<img alt=\"\" class=\"grid-product__image lazyloaded\" src=\"//shop.boom-studios.com/cdn/shop/products/EmberAshes_ThiefAmongTrees_HC_Cover_Limited_LOW_400x.jpg?v=1607991817\"/>\n",
      "</noscript>\n",
      "</div></div>\n",
      "<div class=\"grid-product__meta\">\n",
      "<div class=\"grid-product__title grid-product__title--body\">A Thief Among the Trees: An Ember In the Ashes Graphic Novel Limited Edition Hardcover</div><div class=\"grid-product__price\">$39.99\n",
      "</div></div>\n",
      "</a>\n"
     ]
    }
   ],
   "source": [
    "print(primer_comic.a)"
   ]
  },
  {
   "cell_type": "markdown",
   "id": "80670df5-1250-4fda-8d99-86931e037c55",
   "metadata": {},
   "source": [
    "*5. Llistar els títuls de la pàgina*"
   ]
  },
  {
   "cell_type": "code",
   "execution_count": 227,
   "id": "4529d60f-fbdd-4bde-ab23-63e5e76c8ad2",
   "metadata": {},
   "outputs": [
    {
     "name": "stdout",
     "output_type": "stream",
     "text": [
      "A Thief Among the Trees: An Ember In the Ashes Graphic Novel Limited Edition Hardcover\n",
      "Amory Wars: Good Apollo, I'm Burning Star IV Ultimate Edition\n",
      "Basilisk Vol. 1 BOOM! Studios Exclusive\n",
      "Briar Vol. 1 BOOM! Studios Exclusive\n",
      "BRZRKR Deluxe Edition\n",
      "BRZRKR Deluxe Edition Limited Edition w/ Slipcase\n",
      "BRZRKR Vol. 1\n",
      "BRZRKR Vol. 2\n",
      "BRZRKR Vol. 3\n",
      "BRZRKR: Bloodlines Vol. 1 BOOM! Direct Reserve Exclusive\n",
      "CODA Deluxe Edition\n",
      "Damn Them All Vol. 1 BOOM! Direct Reserve Exclusive\n",
      "Dark Blood BOOM! Studios Exclusive\n",
      "Dune: House Atreides Vol. 1\n",
      "Eat the Rich BOOM! Studios Exclusive\n",
      "Eve: Children of the Moon\n",
      "Fence Vol. 1\n",
      "Fence: Redemption BOOM! Direct Reserve Manhanini Exclusive\n",
      "Flavor Girls BOOM! Studios Exclusive Hardcover\n",
      "Giant Days Library Edition Vol. 1\n",
      "Giant Days Library Edition Vol. 2\n",
      "Giant Days Library Edition Vol. 3\n",
      "Go Go Power Rangers Book One Deluxe Edition\n",
      "Go Go Power Rangers Book Two Deluxe Edition\n",
      "Grim Book One Deluxe Edition\n",
      "Grim Book One Deluxe Edition Limited Edition BOOM! Direct Reserve Exclusive w/ Slipcase\n",
      "Grim Book One Deluxe Edition Limited Edition w/ Slipcase\n",
      "Grim Vol. 1 BOOM! Studios Exclusive\n",
      "Grim Vol. 2 BOOM! Direct Reserve Exclusive\n",
      "Grim Vol. 3 BOOM! Direct Reserve Exclusive\n",
      "Jim Henson's Beneath the Dark Crystal: The Complete Collection\n",
      "Jim Henson's Labyrinth: The Novelization\n",
      "Jim Henson's The Dark Crystal Age of Resistance: The Complete Collection\n",
      "Jim Henson's The Dark Crystal Creation Myths: The Complete Collection\n",
      "Lumberjanes To The Max Vol. 1\n",
      "Magic Book One Deluxe Edition\n",
      "Maw BOOM! Studios Exclusive\n",
      "Mech Cadets Book One\n",
      "Memetic: The Apocalyptic Trilogy Bundle\n",
      "Memetic: The Apocalyptic Trilogy Deluxe Edition\n",
      "Memetic: The Apocalyptic Trilogy Deluxe Edition Limited Edition w/ Slipcase\n",
      "Mighty Morphin / Power Rangers Book One Deluxe Edition\n",
      "Mighty Morphin / Power Rangers Book One Deluxe Edition BOOM! Direct Reserve Exclusive\n",
      "Mighty Morphin / Power Rangers Book Three Deluxe Edition\n",
      "Mighty Morphin / Power Rangers Book Three Deluxe Edition BOOM! Direct Reserve Exclusive\n",
      "Mighty Morphin / Power Rangers Book Two Deluxe Edition\n",
      "Mighty Morphin / Power Rangers Book Two Deluxe Edition BOOM! Direct Reserve Exclusive\n",
      "Mighty Morphin Power Rangers / Teenage Mutant Ninja Turtles B&W Limited Edition\n",
      "Mighty Morphin Power Rangers / Teenage Mutant Ninja Turtles II BOOM! Direct Reserve Exclusive\n",
      "Mighty Morphin Power Rangers Beyond The Grid Deluxe Edition\n",
      "Mighty Morphin Power Rangers Necessary Evil II Deluxe Edition\n",
      "Mighty Morphin Power Rangers Year One Deluxe Limited Edition\n",
      "Mighty Morphin Power Rangers Year Two Deluxe Limited Edition\n",
      "Mighty Morphin Power Rangers: Necessary Evil I Deluxe Edition\n",
      "Mighty Morphin Power Rangers: Shattered Grid Deluxe Edition\n",
      "Mosely\n",
      "Nomads: The Sky Kingdom OGN BOOM! Direct Reserve Exclusive\n",
      "Once & Future Book One Deluxe Edition\n",
      "Once & Future Book One Deluxe Edition Limited Edition w/ Slipcase\n",
      "Once & Future Book Two Deluxe Edition\n"
     ]
    }
   ],
   "source": [
    "for comic in comics:\n",
    "    titulos = comic.find(class_='grid-product__title')\n",
    "    print(titulos.text)"
   ]
  },
  {
   "cell_type": "code",
   "execution_count": null,
   "id": "d6d8e55c-1aba-476b-965a-9d07ed70ae24",
   "metadata": {},
   "outputs": [],
   "source": []
  }
 ],
 "metadata": {
  "kernelspec": {
   "display_name": "Python 3 (ipykernel)",
   "language": "python",
   "name": "python3"
  },
  "language_info": {
   "codemirror_mode": {
    "name": "ipython",
    "version": 3
   },
   "file_extension": ".py",
   "mimetype": "text/x-python",
   "name": "python",
   "nbconvert_exporter": "python",
   "pygments_lexer": "ipython3",
   "version": "3.12.4"
  }
 },
 "nbformat": 4,
 "nbformat_minor": 5
}
