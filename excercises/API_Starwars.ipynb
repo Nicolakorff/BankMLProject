{
 "cells": [
  {
   "cell_type": "markdown",
   "id": "b31b0864-5bfb-47fe-a009-d7caad688be9",
   "metadata": {},
   "source": [
    "## **Exercici d'ús de l'API Starwars**"
   ]
  },
  {
   "cell_type": "markdown",
   "id": "5bb631cd-f8f9-4fb6-8646-761d294e4f8a",
   "metadata": {},
   "source": [
    "*1. importació de llibreries*"
   ]
  },
  {
   "cell_type": "code",
   "execution_count": 146,
   "id": "5b802ebb-c812-4472-8c48-d373af419b42",
   "metadata": {},
   "outputs": [],
   "source": [
    "import requests"
   ]
  },
  {
   "cell_type": "code",
   "execution_count": 147,
   "id": "4678ccad-f5c2-4753-8236-c28162d43df6",
   "metadata": {},
   "outputs": [],
   "source": [
    "import json"
   ]
  },
  {
   "cell_type": "markdown",
   "id": "ec455b85-43b4-4388-a995-27455c3e2a1f",
   "metadata": {},
   "source": [
    "*2. Ús de GET*"
   ]
  },
  {
   "cell_type": "code",
   "execution_count": 148,
   "id": "1a030d16-bedf-4b4f-bd7d-0c394927e0d7",
   "metadata": {},
   "outputs": [],
   "source": [
    "url = 'https://swapi.py4e.com/api/people/1'"
   ]
  },
  {
   "cell_type": "code",
   "execution_count": 149,
   "id": "ea8074d2-3d9e-4996-9565-ac1dab2fc5c5",
   "metadata": {},
   "outputs": [],
   "source": [
    "response = requests.get(url)"
   ]
  },
  {
   "cell_type": "code",
   "execution_count": 150,
   "id": "ac6e8f93-514c-48f2-a610-872d2bf858db",
   "metadata": {},
   "outputs": [
    {
     "name": "stdout",
     "output_type": "stream",
     "text": [
      "<Response [200]>\n"
     ]
    }
   ],
   "source": [
    "print(response)"
   ]
  },
  {
   "cell_type": "markdown",
   "id": "1563d82a-53d9-48aa-b51d-bcfc0f9d2a16",
   "metadata": {},
   "source": [
    "*3. Confirmació de solicitud de data exitosa*"
   ]
  },
  {
   "cell_type": "code",
   "execution_count": 170,
   "id": "9cbb453b-5b8b-43f1-bf58-7c820714b8df",
   "metadata": {},
   "outputs": [
    {
     "name": "stdout",
     "output_type": "stream",
     "text": [
      "Solicitud exitosa\n",
      "data: {'name': 'Tatooine', 'rotation_period': '23', 'orbital_period': '304', 'diameter': '10465', 'climate': 'arid', 'gravity': '1 standard', 'terrain': 'desert', 'surface_water': '1', 'population': '200000', 'residents': ['https://swapi.py4e.com/api/people/1/', 'https://swapi.py4e.com/api/people/2/', 'https://swapi.py4e.com/api/people/4/', 'https://swapi.py4e.com/api/people/6/', 'https://swapi.py4e.com/api/people/7/', 'https://swapi.py4e.com/api/people/8/', 'https://swapi.py4e.com/api/people/9/', 'https://swapi.py4e.com/api/people/11/', 'https://swapi.py4e.com/api/people/43/', 'https://swapi.py4e.com/api/people/62/'], 'films': ['https://swapi.py4e.com/api/films/1/', 'https://swapi.py4e.com/api/films/3/', 'https://swapi.py4e.com/api/films/4/', 'https://swapi.py4e.com/api/films/5/', 'https://swapi.py4e.com/api/films/6/'], 'created': '2014-12-09T13:50:49.641000Z', 'edited': '2014-12-20T20:58:18.411000Z', 'url': 'https://swapi.py4e.com/api/planets/1/'}\n"
     ]
    }
   ],
   "source": [
    "if response.status_code == 200:\n",
    "    data = response.json()\n",
    "    print('Solicitud exitosa')\n",
    "    print('data:', data)\n",
    "else:\n",
    " print('Error en la solicitud, detalles:', response.text)"
   ]
  },
  {
   "cell_type": "markdown",
   "id": "fabea5c5-4f4b-4f2c-84c6-3070c716cf2c",
   "metadata": {},
   "source": [
    "*4.Simplificació de codi i saber el seu nom*"
   ]
  },
  {
   "cell_type": "code",
   "execution_count": 152,
   "id": "f840c518-ad78-410c-9422-8976769dc16c",
   "metadata": {},
   "outputs": [
    {
     "name": "stdout",
     "output_type": "stream",
     "text": [
      "dict_keys(['name', 'height', 'mass', 'hair_color', 'skin_color', 'eye_color', 'birth_year', 'gender', 'homeworld', 'films', 'species', 'vehicles', 'starships', 'created', 'edited', 'url'])\n"
     ]
    }
   ],
   "source": [
    "j = response.json()\n",
    "print(j.keys())"
   ]
  },
  {
   "cell_type": "markdown",
   "id": "7c487362-02da-47d1-8bf0-72ddf6c2a78c",
   "metadata": {},
   "source": [
    "*5. Busqueda de información específica: nombre del protagonista*"
   ]
  },
  {
   "cell_type": "code",
   "execution_count": 153,
   "id": "f07b83ee-6c1e-42aa-ac90-5148419663bf",
   "metadata": {},
   "outputs": [
    {
     "name": "stdout",
     "output_type": "stream",
     "text": [
      "Luke Skywalker\n"
     ]
    }
   ],
   "source": [
    "name = j['name']\n",
    "print(name)"
   ]
  },
  {
   "cell_type": "markdown",
   "id": "bba8c386-1620-43c5-a854-bb3ebd72bacb",
   "metadata": {},
   "source": [
    "*6. Aconseguir informació dels primers 10 personatges principals i el seu color d'ulls*"
   ]
  },
  {
   "cell_type": "code",
   "execution_count": 154,
   "id": "a8e64053-5f99-4e46-8f07-c9619ada1178",
   "metadata": {},
   "outputs": [
    {
     "name": "stdout",
     "output_type": "stream",
     "text": [
      "El personatge Luke Skywalker tiene el color de ojos blue\n",
      "El personatge C-3PO tiene el color de ojos yellow\n",
      "El personatge R2-D2 tiene el color de ojos red\n",
      "El personatge Darth Vader tiene el color de ojos yellow\n",
      "El personatge Leia Organa tiene el color de ojos brown\n",
      "El personatge Owen Lars tiene el color de ojos blue\n",
      "El personatge Beru Whitesun lars tiene el color de ojos blue\n",
      "El personatge R5-D4 tiene el color de ojos red\n",
      "El personatge Biggs Darklighter tiene el color de ojos brown\n",
      "El personatge Obi-Wan Kenobi tiene el color de ojos blue-gray\n"
     ]
    }
   ],
   "source": [
    "i = 1\n",
    "while i < 11:\n",
    "    url = 'https://swapi.py4e.com/api/people/{}'.format(i)\n",
    "    response = requests.get(url)\n",
    "    j = response.json()\n",
    "    name = j['name']\n",
    "    eye_color = j['eye_color']\n",
    "    print('El personatge {} tiene el color de ojos {}'.format(name,eye_color))\n",
    "    i += 1"
   ]
  },
  {
   "cell_type": "markdown",
   "id": "2229b438-c206-42eb-9cc4-88663eec7031",
   "metadata": {},
   "source": [
    "*7. Veure quins personatges són residents d'un planeta i si són dones o homes*"
   ]
  },
  {
   "cell_type": "code",
   "execution_count": 158,
   "id": "7488ba68-0958-432b-b6d3-62582383842e",
   "metadata": {},
   "outputs": [
    {
     "name": "stdout",
     "output_type": "stream",
     "text": [
      "Solicitud exitosa\n",
      "data: {'name': 'Tatooine', 'rotation_period': '23', 'orbital_period': '304', 'diameter': '10465', 'climate': 'arid', 'gravity': '1 standard', 'terrain': 'desert', 'surface_water': '1', 'population': '200000', 'residents': ['https://swapi.py4e.com/api/people/1/', 'https://swapi.py4e.com/api/people/2/', 'https://swapi.py4e.com/api/people/4/', 'https://swapi.py4e.com/api/people/6/', 'https://swapi.py4e.com/api/people/7/', 'https://swapi.py4e.com/api/people/8/', 'https://swapi.py4e.com/api/people/9/', 'https://swapi.py4e.com/api/people/11/', 'https://swapi.py4e.com/api/people/43/', 'https://swapi.py4e.com/api/people/62/'], 'films': ['https://swapi.py4e.com/api/films/1/', 'https://swapi.py4e.com/api/films/3/', 'https://swapi.py4e.com/api/films/4/', 'https://swapi.py4e.com/api/films/5/', 'https://swapi.py4e.com/api/films/6/'], 'created': '2014-12-09T13:50:49.641000Z', 'edited': '2014-12-20T20:58:18.411000Z', 'url': 'https://swapi.py4e.com/api/planets/1/'}\n"
     ]
    }
   ],
   "source": [
    "url = 'https://swapi.py4e.com/api/planets/1/'\n",
    "response = requests.get(url)\n",
    "if response.status_code == 200:\n",
    "    data = response.json()\n",
    "    print('Solicitud exitosa')\n",
    "    print('data:', data)\n",
    "else:\n",
    " print('Error en la solicitud, detalles:', response.text)"
   ]
  },
  {
   "cell_type": "code",
   "execution_count": 167,
   "id": "0cf3bc3d-503f-42ac-95eb-26e4bef4244e",
   "metadata": {},
   "outputs": [
    {
     "name": "stdout",
     "output_type": "stream",
     "text": [
      "Tatooine\n"
     ]
    }
   ],
   "source": [
    "url = 'https://swapi.py4e.com/api/planets/1/'\n",
    "response = requests.get(url)\n",
    "j = response.json()\n",
    "nameplanet = j['name']\n",
    "print(nameplanet)"
   ]
  },
  {
   "cell_type": "code",
   "execution_count": 168,
   "id": "6495b68c-fbe8-4c3f-8d64-f020286b27f7",
   "metadata": {},
   "outputs": [],
   "source": [
    "personajes = j['residents']\n",
    "list_names_female = list()\n",
    "list_names_male = list()\n",
    "for personaje in personajes:\n",
    "    req = requests.get(personaje)\n",
    "    js = req.json()\n",
    "    name =js['name']\n",
    "    if js['gender'] == 'female':\n",
    "        list_names_female.append(name)\n",
    "    else:\n",
    "        list_names_male.append(name)"
   ]
  },
  {
   "cell_type": "code",
   "execution_count": 169,
   "id": "27407799-4aae-43bb-81e1-9ad6f71d8be5",
   "metadata": {},
   "outputs": [
    {
     "name": "stdout",
     "output_type": "stream",
     "text": [
      "['Beru Whitesun lars', 'Shmi Skywalker']\n",
      "['Luke Skywalker', 'C-3PO', 'Darth Vader', 'Owen Lars', 'R5-D4', 'Biggs Darklighter', 'Anakin Skywalker', 'Cliegg Lars']\n"
     ]
    }
   ],
   "source": [
    "print(list_names_female)\n",
    "print(list_names_male)"
   ]
  }
 ],
 "metadata": {
  "kernelspec": {
   "display_name": "Python 3 (ipykernel)",
   "language": "python",
   "name": "python3"
  },
  "language_info": {
   "codemirror_mode": {
    "name": "ipython",
    "version": 3
   },
   "file_extension": ".py",
   "mimetype": "text/x-python",
   "name": "python",
   "nbconvert_exporter": "python",
   "pygments_lexer": "ipython3",
   "version": "3.12.4"
  }
 },
 "nbformat": 4,
 "nbformat_minor": 5
}
