{
 "cells": [
  {
   "cell_type": "markdown",
   "id": "dad88c2a-04b2-40a5-ad50-23e7e9d04334",
   "metadata": {},
   "source": [
    "## **Documentació del Procés de Recol·lecció de Dades per al Projecte de venda de dipósits bancaris**\n",
    "**** "
   ]
  },
  {
   "cell_type": "markdown",
   "id": "cc4a4979-d1f1-4e39-9b16-54431f3515b0",
   "metadata": {},
   "source": [
    "### **1. Fonts** \n",
    "**** "
   ]
  },
  {
   "cell_type": "markdown",
   "id": "b57dc83a-85a2-4308-80c3-6dd917496fdb",
   "metadata": {},
   "source": [
    "**Identificació de Fonts:**"
   ]
  },
  {
   "cell_type": "markdown",
   "id": "a18dff1f-fe44-408a-9df3-108aa9c883c4",
   "metadata": {},
   "source": [
    " * Base de dades interna del Banc de campanyes comercials telefòniques."
   ]
  },
  {
   "cell_type": "markdown",
   "id": "10e9c3c5-308f-4e08-90ba-2fef4c12fc18",
   "metadata": {},
   "source": [
    "**Descripció de les Fonts:**"
   ]
  },
  {
   "cell_type": "markdown",
   "id": "97a6946c-d143-405c-9be7-570447fe2da6",
   "metadata": {},
   "source": [
    "* La base de dades del Banc conté registres de les campanyes comercials telefòniques."
   ]
  },
  {
   "cell_type": "markdown",
   "id": "165c497e-1332-4b5a-8ffd-e367cdc4896e",
   "metadata": {},
   "source": [
    "## **2. Mètodes de recol·lecció de dades**\n",
    "**** "
   ]
  },
  {
   "cell_type": "markdown",
   "id": "bb204eef-8e73-404e-bdc1-bd8fa59156b5",
   "metadata": {},
   "source": [
    "**Procediments i Eines:**"
   ]
  },
  {
   "cell_type": "markdown",
   "id": "4929879c-b0fa-4f55-880a-996c9496105e",
   "metadata": {},
   "source": [
    "* Exportació programada en format CSV, emmagatzemada en un repositori de GitHub després de les recol·leccions de les campanyes comercials telefòniques. Aquesta tasca la fa el departament d'IT."
   ]
  },
  {
   "cell_type": "markdown",
   "id": "a8ed2a42-a368-4897-bca5-6c5121300532",
   "metadata": {},
   "source": [
    "**Freqüència de Recol·lecció:**"
   ]
  },
  {
   "cell_type": "markdown",
   "id": "f6a8d7fd-4ecf-4e71-915c-e4e55d892eca",
   "metadata": {},
   "source": [
    "* Per campanyes."
   ]
  },
  {
   "cell_type": "markdown",
   "id": "9181e632-3224-4fc5-a786-3c12f8b853f1",
   "metadata": {},
   "source": [
    "**Scripts de Descàrrega:**"
   ]
  },
  {
   "cell_type": "markdown",
   "id": "e0ca871f-753a-451e-b0fe-daf1b8f5a3e1",
   "metadata": {},
   "source": [
    "## **3. Format i Estructura de les Dades**\n",
    "**** "
   ]
  },
  {
   "cell_type": "code",
   "execution_count": null,
   "id": "a04072c0-e000-434d-8517-1c9efa2a5111",
   "metadata": {},
   "outputs": [],
   "source": [
    "import pandas as pd\n",
    "\n",
    "csv_url = \"https://github.com/ITACADEMYprojectes/projecteML/blob/main/bank_dataset.CSV\"\n",
    "df = pd.read_csv(csv_url)\n",
    "print(df.info())"
   ]
  },
  {
   "cell_type": "markdown",
   "id": "18a56275-af8c-4eea-b291-1b1b2ed0a0cd",
   "metadata": {},
   "source": [
    "**Tipus de Dades:**"
   ]
  },
  {
   "cell_type": "markdown",
   "id": "762e3591-367f-4d88-82d5-65c16983ab75",
   "metadata": {},
   "source": [
    "* Numèrics: Age, balance, day, duration, campaign, pdays, previous\n",
    "* Categòric: Job, marital, education, default, housing, loan, contact, month, poutcome, deposit"
   ]
  },
  {
   "cell_type": "markdown",
   "id": "eb087d2a-8865-4789-8bbe-d277c1ca8fc0",
   "metadata": {},
   "source": [
    "**Format d'Emmagatzematge:**"
   ]
  },
  {
   "cell_type": "markdown",
   "id": "7de89493-1786-4c3c-a62b-d8b71ccb6637",
   "metadata": {},
   "source": [
    "* Dades tabulars emmagatzemades en fitxer csv."
   ]
  },
  {
   "cell_type": "markdown",
   "id": "b3bf9d92-bb1f-4791-b7ac-42a731de54e3",
   "metadata": {},
   "source": [
    "## **4. Limitacions de les dades**\n",
    "**** "
   ]
  },
  {
   "cell_type": "markdown",
   "id": "77acdaa3-54de-4b06-9bc2-f6bb4d809885",
   "metadata": {},
   "source": [
    "- Diferents Temps d'Actualització: Les dades recollides són de campanyes comercials telefòniques on no sempre es té resposta. \n",
    "Possible bias: Manca de dades de localització, sexe i raça."
   ]
  },
  {
   "cell_type": "markdown",
   "id": "c3b1bd6c-0696-4fa7-b810-2d497211b94d",
   "metadata": {},
   "source": [
    "## **5. Consideracions sobre Dades Sensibles**\n",
    "**** "
   ]
  },
  {
   "cell_type": "markdown",
   "id": "8bbc266f-11cf-4663-9c5d-fdf62dc76da8",
   "metadata": {},
   "source": [
    "**Tipus de Dades Sensibles:**"
   ]
  },
  {
   "cell_type": "markdown",
   "id": "8313233b-1ba2-427f-ad84-2ae52255d8cc",
   "metadata": {},
   "source": [
    "Les dades que tenim no són especialment sensibles, pero es poden tenir en compte les següents:\n",
    "* Informació Personal Identificable (PII): Job, marital, education\n",
    "* Informació Financera Sensible: Dipòsits"
   ]
  },
  {
   "cell_type": "markdown",
   "id": "eef27927-67f8-4115-83ce-990391b55fed",
   "metadata": {},
   "source": [
    "**Mesures de Protecció:**"
   ]
  },
  {
   "cell_type": "markdown",
   "id": "4d5f890c-eb9b-460c-806d-f9cda591d395",
   "metadata": {},
   "source": [
    "* **Accés Restringit:**\n",
    "    * Accés a dades sensibles restringit només a personal autoritzat amb necessitat de conèixer aquestes dades per a fins específics del projecte.\n",
    "* **Compliment de Regulacions:**\n",
    "    * Compliment amb la GDRP"
   ]
  }
 ],
 "metadata": {
  "kernelspec": {
   "display_name": "Python 3 (ipykernel)",
   "language": "python",
   "name": "python3"
  },
  "language_info": {
   "codemirror_mode": {
    "name": "ipython",
    "version": 3
   },
   "file_extension": ".py",
   "mimetype": "text/x-python",
   "name": "python",
   "nbconvert_exporter": "python",
   "pygments_lexer": "ipython3",
   "version": "3.12.4"
  }
 },
 "nbformat": 4,
 "nbformat_minor": 5
}
