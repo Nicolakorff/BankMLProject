{
 "cells": [
  {
   "cell_type": "markdown",
   "id": "72590ced-bdb1-4f79-bb56-d9a84eba6ce7",
   "metadata": {},
   "source": [
    "## **Projecte de ML per a incrementar la despesa anual de clients a la botiga**"
   ]
  },
  {
   "cell_type": "markdown",
   "id": "3571f1d0-1966-4ddd-b5eb-2fd70880456d",
   "metadata": {},
   "source": [
    "### **Introducció**"
   ]
  },
  {
   "cell_type": "markdown",
   "id": "6fb49ee5-1cda-4bfc-afa1-5a466ae72d7d",
   "metadata": {},
   "source": [
    "Es tracta d'una botiga exclusiva especialitzada en la confecció i venda de roba a mida. Es destaca per oferir consultories altament personalitzades. Els clients visiten la botiga per rebre assessorament directe d'estilistes experts que ajuden a crear peces úniques que s'ajustin perfectament a les seves preferències i mesures. Després de la sessió de consultoria, els clients poden fer comandes de roba mitjançant una aplicació mòbil o del lloc web de l'empresa."
   ]
  },
  {
   "cell_type": "markdown",
   "id": "63a18c30-da10-44bf-b133-bebd7404a18e",
   "metadata": {},
   "source": [
    "### **Objectius del Projecte**"
   ]
  },
  {
   "cell_type": "markdown",
   "id": "48326728-ba33-4eba-945a-ee07312f16af",
   "metadata": {},
   "source": [
    "*1. Quins són els objectius del negoci?*"
   ]
  },
  {
   "cell_type": "markdown",
   "id": "9a849c41-2cd5-4656-9dd1-640beb21fa8c",
   "metadata": {},
   "source": [
    "Augmentar les vendes avaluant on concentrar els esforços: millorant l'experiència dels clients al lloc web oa l'aplicació móvil"
   ]
  },
  {
   "cell_type": "markdown",
   "id": "767646df-134b-49cc-9850-b293e1ef7ddc",
   "metadata": {},
   "source": [
    "*2. Quines decisions o processos específics voleu millorar o automatitzar amb\n",
    "ML?*"
   ]
  },
  {
   "cell_type": "markdown",
   "id": "6a47db41-135e-4fb1-b422-388225430d86",
   "metadata": {},
   "source": [
    "Es cerca optimitzar les decisions empresarials relacionades amb l'experiència del client i automatitzar la predicció de la despesa anual de cada client."
   ]
  },
  {
   "cell_type": "markdown",
   "id": "9f3729b7-49bf-4ea2-8d20-2709221bd05c",
   "metadata": {},
   "source": [
    "*3. Es podria resoldre el problema de manera no automatitzada?*"
   ]
  },
  {
   "cell_type": "markdown",
   "id": "c7c1a8ae-ec4b-4a4d-81c3-5928cf95179e",
   "metadata": {},
   "source": [
    "Si bé la predicció de la despesa anual de cada client es pot fer utilitzant fulls de càlcul o programari estadístics, l'ús de machine learning permetrà automatitzar aquest procés mitjançant entrenaments programats que incorporin ràpidament les transaccions diàries sense necessitat d'intervenció manual."
   ]
  },
  {
   "cell_type": "markdown",
   "id": "12e4caa5-5be1-4736-8837-37a3b8960afd",
   "metadata": {},
   "source": [
    "### **Metodologia Proposta**"
   ]
  },
  {
   "cell_type": "markdown",
   "id": "1fd45d30-4add-4b72-8ec4-bfbe53f09ee1",
   "metadata": {},
   "source": [
    "*4. Quin és l'algorisme de Machine Learning més adequat per resoldre aquest problema? Com justifica l'elecció d'aquest algorisme? Que mètriques d'avaluació s'utilitzaran per a mesurar el rendiment del model?*"
   ]
  },
  {
   "cell_type": "markdown",
   "id": "944de2b2-d1d2-4611-a5f7-afe6c9ae3269",
   "metadata": {},
   "source": [
    "Aquest problema es pot dividir en dues parts: classificació o clustering per optimitzar l'experiència del client (K-means o DBSCAN) i regressió per predir la despesa anual (Random Forest Regressor). En cas de tenir dades etiquetas es podría fer servir un sol algoritme per tot: Random Forest Classifier o Gradient Boosting Machines (XGBoost o LightGBM).\n",
    "**K-means o DBSCAN:** un algoritme de clustering, seria el més adequat per identificar patrons subjacents en grans conjunts de dades sense supervisió. És ideal per segmentar els clients en diferents grups segons el seu comportament, cosa que ajuda a personalitzar estratègies. El primer és un mètode senzill i eficient per a grups ben definits, mentre que el segon és més adequat si hi ha dades amb soroll o patrons menys estructurats. \n",
    "**Random Forest Regressor:** És robust i eficaç per capturar relacions no lineals i complexitats dins les dades entre múltiples variables i crea múltiples arbres de decisió basats en diferents subconjunts d’aquestes dades fent una mitjana, evitant l'overfitting.\n",
    "**Random Forest Classifier o Gradient Boosting Machines (GBM) (XGBoost/LightGBM):** Són algorismes de gradient boosting que permeten capturar interaccions complexes entre les variables. Tenen alta precisió en predicció, ja que combinen múltiples arbres de decisió optimitzats iterativament. Són altament eficients per a problemes de regressió i es fan servir àmpliament en aplicacions empresarials amb dades tabulars i són especialment robusts enfront de l'overfitting.\n",
    "\n",
    "Les mètriques d’avaluació que esculliria per garantir que el model sigui més precís, equilibrant errors grans i petits i explicant adequadament les variacions en la despesa dels clients, serien els següents:\n",
    "**RMSE (Root Mean Squared Error):** Per mesurar l'error entre els valors predits i els reals. És especialment útil quan es vol penalitzar els grans errors.\n",
    "**MAE (Mean Absolute Error):** Proporciona una mesura més intuïtiva de l'error, ja que reflecteix la magnitud mitjana de les desviacions entre prediccions i valors reals.\n",
    "**R² (Coeficient de determinació):** Mesura quina proporció de la variabilitat en la despesa es pot explicar mitjançant el model.\n",
    "**Accuracy (precisió):** Proporció de prediccions correctes respecte al total. \n",
    "**F1-score:** Mesura l'equilibri entre precisió i sensibilitat, especialment útil si hi ha un desbalanceig en les classes.\n"
   ]
  },
  {
   "cell_type": "markdown",
   "id": "5ae157f5-ca44-4be5-8b79-65f7f1c7e84d",
   "metadata": {},
   "source": [
    "### **Dades Disponibles**"
   ]
  },
  {
   "cell_type": "markdown",
   "id": "0b2e4094-0e5c-4393-8ed5-a92665b3b6fa",
   "metadata": {},
   "source": [
    "*5. Quines dades estan disponibles per abordar aquest problema?*"
   ]
  },
  {
   "cell_type": "markdown",
   "id": "c56e7ab4-84f0-4622-bc7e-138ca199cab0",
   "metadata": {},
   "source": [
    "La botiga compta amb un conjunt de dades actualitzat que inclou informació identificativa de cada client, la suma anual que ha gastat a la botiga, el temps dedicat a interactuar tant al lloc web com a l'aplicació mòbil, i l'estat de membres."
   ]
  },
  {
   "cell_type": "markdown",
   "id": "a49b1970-da3c-4776-a569-5fb4aa67f005",
   "metadata": {},
   "source": [
    "### **Mètrica d'Èxit**"
   ]
  },
  {
   "cell_type": "markdown",
   "id": "7dae18cc-1c6f-4c6c-8be7-72c3fb89816e",
   "metadata": {},
   "source": [
    "*6. Quina és la mètrica dèxit per a aquest projecte?*"
   ]
  },
  {
   "cell_type": "markdown",
   "id": "7d8eeb4b-79b5-4ce0-b3d1-47e9946e8790",
   "metadata": {},
   "source": [
    "Augment en la Despesa Anual Mitjana per Client. Aquesta mètrica reflectiria directament l'efectivitat del model en millorar les decisions de l'empresa."
   ]
  },
  {
   "cell_type": "markdown",
   "id": "2f9f006c-fef1-41f4-bf67-69d4cf5a64a2",
   "metadata": {},
   "source": [
    "### **Responsabilitats Ètiques i Socials**"
   ]
  },
  {
   "cell_type": "markdown",
   "id": "b1cc3789-2c59-4927-ad71-38e07420e1c0",
   "metadata": {},
   "source": [
    "*7. Quines responsabilitats ètiques i socials és important tenir en compte?*"
   ]
  },
  {
   "cell_type": "markdown",
   "id": "6f1f029a-2cd6-408b-81e2-e700c0ea6912",
   "metadata": {},
   "source": [
    "Com que el sistema recull dades personal del clients, és essencial garantir el compliment de les lleis de protecció de dades com el Reglament General de Protecció de Dades (RGPD) a Europa o altres normatives regionals similars.\n",
    "*Privacitat i Protecció de Dades:* Recollida de dades informada, anonimització i minimització de dades.\n",
    "*Biaix Algorítmic i Justícia:* Evitar biaixos en les dades, monitorització del biaix i decisions transparents.\n",
    "*Transparència i Explicabilitat:* Explicabilitat del model i transparència empresarial.\n",
    "*Impacte Social i Econòmic:* Impacte en la personalització i desigualtat en l'accés als serveis.\n",
    "*Responsabilitat en la Toma de Decisions Automàtiques:* Supervisió humana i resposta davant errors.\n",
    "*Gestió dels riscos tecnològics.*"
   ]
  }
 ],
 "metadata": {
  "kernelspec": {
   "display_name": "Python 3 (ipykernel)",
   "language": "python",
   "name": "python3"
  },
  "language_info": {
   "codemirror_mode": {
    "name": "ipython",
    "version": 3
   },
   "file_extension": ".py",
   "mimetype": "text/x-python",
   "name": "python",
   "nbconvert_exporter": "python",
   "pygments_lexer": "ipython3",
   "version": "3.12.4"
  }
 },
 "nbformat": 4,
 "nbformat_minor": 5
}
