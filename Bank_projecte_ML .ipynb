{
 "cells": [
  {
   "cell_type": "markdown",
   "id": "72590ced-bdb1-4f79-bb56-d9a84eba6ce7",
   "metadata": {},
   "source": [
    "## **Projecte de ML per a incrementar la venda de dipòsits**"
   ]
  },
  {
   "cell_type": "markdown",
   "id": "3571f1d0-1966-4ddd-b5eb-2fd70880456d",
   "metadata": {},
   "source": [
    "### **Introducció**"
   ]
  },
  {
   "cell_type": "markdown",
   "id": "6fb49ee5-1cda-4bfc-afa1-5a466ae72d7d",
   "metadata": {},
   "source": [
    "Es tracta d'un Bank de venda dipòsits a llarg terme a un públic divers."
   ]
  },
  {
   "cell_type": "markdown",
   "id": "63a18c30-da10-44bf-b133-bebd7404a18e",
   "metadata": {},
   "source": [
    "### **Objectius del Projecte**"
   ]
  },
  {
   "cell_type": "markdown",
   "id": "48326728-ba33-4eba-945a-ee07312f16af",
   "metadata": {},
   "source": [
    "*1. Quins són els objectius del negoci?*"
   ]
  },
  {
   "cell_type": "markdown",
   "id": "4d41f407-5016-4424-b282-070a1db91681",
   "metadata": {},
   "source": [
    "Incrementar les vendes del dipósits segmentant els clients i avaluant les prosibilitats de venda per a cada segment."
   ]
  },
  {
   "cell_type": "markdown",
   "id": "767646df-134b-49cc-9850-b293e1ef7ddc",
   "metadata": {},
   "source": [
    "*2. Quines decisions o processos específics voleu millorar o automatitzar amb\n",
    "ML?*"
   ]
  },
  {
   "cell_type": "markdown",
   "id": "6a47db41-135e-4fb1-b422-388225430d86",
   "metadata": {},
   "source": [
    "Se cerca optimitzar les decisions empresarials relacionades amb la venda de dipòsits automatitzant la segmentació i predicció per a cada segment."
   ]
  },
  {
   "cell_type": "markdown",
   "id": "9f3729b7-49bf-4ea2-8d20-2709221bd05c",
   "metadata": {},
   "source": [
    "*3. Es podria resoldre el problema de manera no automatitzada?*"
   ]
  },
  {
   "cell_type": "markdown",
   "id": "c7c1a8ae-ec4b-4a4d-81c3-5928cf95179e",
   "metadata": {},
   "source": [
    "Si bé la segmentació es pot fer utilitzant fulls de càlcul o programari estadístics, l'ús de machine learning permetrà automatitzar aquest procés mitjançant entrenaments programats que incorporin ràpidament les transaccions diàries sense necessitat d'intervenció manual."
   ]
  },
  {
   "cell_type": "markdown",
   "id": "12e4caa5-5be1-4736-8837-37a3b8960afd",
   "metadata": {},
   "source": [
    "### **Metodologia Proposta**"
   ]
  },
  {
   "cell_type": "markdown",
   "id": "1fd45d30-4add-4b72-8ec4-bfbe53f09ee1",
   "metadata": {},
   "source": [
    "*4. Quin és l'algorisme de Machine Learning més adequat per resoldre aquest problema? Com justifica l'elecció d'aquest algorisme? Que mètriques d'avaluació s'utilitzaran per a mesurar el rendiment del model?*"
   ]
  },
  {
   "cell_type": "markdown",
   "id": "944de2b2-d1d2-4611-a5f7-afe6c9ae3269",
   "metadata": {},
   "source": [
    "Per abordar l'anàlisi aquests problemes, escolliria els següents algoritmes i mètriques: Per segmentar els clients en diferents grups per característiques com la demografia o el comportament de compra: **K-means**, un algoritme de clustering. Per preveure quina és la probabilitat de compra segons interaccions anteriors: **Regressió logística**: S'usa per a problemes de classificació binària, on la variable objectiu és categòrica. L'objectiu és predir la probabilitat d'una classe binària. Minimitza la funció de pèrdua logarítmica (log-loss), que mesura l'error entre la probabilitat predita i el valor real de la classe. No assumeix una relació lineal entre les variables independents i la probabilitat de la variable dependent, però sí que hi ha una relació lineal entre les variables independents i el logit (logaritme de les probabilitats). Ideal per predir si un client adquirirá o no un dipòsit.\n",
    "\n",
    "Les *mètriques d’avaluació per regressió logistica* que esculliria per garantir que els models siguin més precisos: **Curva ROC o AUC (Area Under the Curve)**: Per poder avaluar la capacitat del model per classificar correctament quins clients tenen més probabilitat d'adquirir un depòsit. Ideal per classificacions binaries. **Accuracy**: Proporció de prediccions correctes respecte al total. **Precision, recall i F1-score**: Per mesurar l'equilibri entre precision i recall, controlant falsos positius i falsos negatius. **Matriu de confusió**: Per una comprensió més profunda del tipus d'errors del model i veure com funciona en verdaders positius, verdaders negatius, falsus positius i falsos negatius. **Log-Loss (Pérdida Logarítmica)**: És especialment útil en aplicacions bancàries en probabilitats de predicció en comptes d'una simple classificació binària com és el cas i per avaluar si el model dóna alta confiança a les seves prediccions. \n",
    "\n",
    "*Métricques d'agrupació per clustering, K-means*: **Inèrcia (Suma de Quadrats de Distàncies Internes)**: Mesura la suma de les distàncies quadrades entre els punts i el centroide dels seus grups respectius. Es minimitza durant l'ajust de K-means. **Coeficient de Silueta (Silhouette Score)**: Mesura què tan bé se separen els clústers. **Índex de Davies-Bouldin**: Mesura la qualitat dels clústers calculant la mitjana de la similitud entre cada clúster i el més proper. **Índex de Calinski-Harabasz (Variància Inter i Intra-cluster)**: Mesura la dispersió dins dels clusters i entre ells."
   ]
  },
  {
   "cell_type": "markdown",
   "id": "5ae157f5-ca44-4be5-8b79-65f7f1c7e84d",
   "metadata": {},
   "source": [
    "### **Dades Disponibles**"
   ]
  },
  {
   "cell_type": "markdown",
   "id": "0b2e4094-0e5c-4393-8ed5-a92665b3b6fa",
   "metadata": {},
   "source": [
    "*5. Quines dades estan disponibles per abordar aquest problema?*"
   ]
  },
  {
   "cell_type": "markdown",
   "id": "c56e7ab4-84f0-4622-bc7e-138ca199cab0",
   "metadata": {},
   "source": [
    "El Bank compta amb les dades recollides de les campanyes de màrqueting."
   ]
  },
  {
   "cell_type": "markdown",
   "id": "a49b1970-da3c-4776-a569-5fb4aa67f005",
   "metadata": {},
   "source": [
    "### **Mètrica d'Èxit**"
   ]
  },
  {
   "cell_type": "markdown",
   "id": "7dae18cc-1c6f-4c6c-8be7-72c3fb89816e",
   "metadata": {},
   "source": [
    "*6. Quina és la mètrica dèxit per a aquest projecte?*"
   ]
  },
  {
   "cell_type": "markdown",
   "id": "7d8eeb4b-79b5-4ce0-b3d1-47e9946e8790",
   "metadata": {},
   "source": [
    "Augment en les vendes anuals. Aquesta mètrica reflectiria directament l'efectivitat del model en millorar les decisions de l'empresa."
   ]
  },
  {
   "cell_type": "markdown",
   "id": "2f9f006c-fef1-41f4-bf67-69d4cf5a64a2",
   "metadata": {},
   "source": [
    "### **Responsabilitats Ètiques i Socials**"
   ]
  },
  {
   "cell_type": "markdown",
   "id": "b1cc3789-2c59-4927-ad71-38e07420e1c0",
   "metadata": {},
   "source": [
    "*7. Quines responsabilitats ètiques i socials és important tenir en compte?*"
   ]
  },
  {
   "cell_type": "markdown",
   "id": "6f1f029a-2cd6-408b-81e2-e700c0ea6912",
   "metadata": {},
   "source": [
    "Com que el sistema recull dades personal del clients, és essencial garantir el compliment de les lleis de protecció de dades com el Reglament General de Protecció de Dades (RGPD) a Europa o altres normatives regionals similars.\n",
    "**Privacitat i Protecció de Dades:** Recollida de dades informada, anonimització i minimització de dades.\n",
    "**Biaix Algorítmic i Justícia:** Evitar biaixos en les dades, monitorització del biaix i decisions transparents.\n",
    "**Transparència i Explicabilitat:** Explicabilitat del model i transparència empresarial.\n",
    "**Impacte Social i Econòmic:** Impacte en la personalització i desigualtat en l'accés als serveis.\n",
    "**Responsabilitat en la Toma de Decisions Automàtiques:** Supervisió humana i resposta davant errors.\n",
    "**Gestió dels riscos tecnològics.**"
   ]
  }
 ],
 "metadata": {
  "kernelspec": {
   "display_name": "Python 3 (ipykernel)",
   "language": "python",
   "name": "python3"
  },
  "language_info": {
   "codemirror_mode": {
    "name": "ipython",
    "version": 3
   },
   "file_extension": ".py",
   "mimetype": "text/x-python",
   "name": "python",
   "nbconvert_exporter": "python",
   "pygments_lexer": "ipython3",
   "version": "3.12.4"
  }
 },
 "nbformat": 4,
 "nbformat_minor": 5
}
