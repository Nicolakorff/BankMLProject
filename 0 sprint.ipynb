{
 "cells": [
  {
   "cell_type": "markdown",
   "id": "c34ac47d-d3ee-4c0c-899f-d97f5b4f4889",
   "metadata": {},
   "source": [
    "# Ejercicio de pruebas"
   ]
  },
  {
   "cell_type": "markdown",
   "id": "bc8c72a6-1360-47fb-9e55-16e8be97ef08",
   "metadata": {},
   "source": [
    "## *sumas* _sumas_"
   ]
  },
  {
   "cell_type": "code",
   "execution_count": 18,
   "id": "94332d2e-5171-4355-8f3c-d1fa7543e960",
   "metadata": {},
   "outputs": [
    {
     "data": {
      "text/plain": [
       "13"
      ]
     },
     "execution_count": 18,
     "metadata": {},
     "output_type": "execute_result"
    }
   ],
   "source": [
    "12 + 1"
   ]
  },
  {
   "cell_type": "markdown",
   "id": "fb0c6984-60b9-4d42-9f9f-e3470376c8b7",
   "metadata": {},
   "source": [
    "## __multiplicación__ **multiplicación**"
   ]
  },
  {
   "cell_type": "code",
   "execution_count": 2,
   "id": "8ea9a5e1-98ea-4683-aac5-3ac7b313d5a5",
   "metadata": {},
   "outputs": [
    {
     "data": {
      "text/plain": [
       "25"
      ]
     },
     "execution_count": 2,
     "metadata": {},
     "output_type": "execute_result"
    }
   ],
   "source": [
    "5 * 5"
   ]
  },
  {
   "cell_type": "markdown",
   "id": "d4084e5c-825f-4ea0-8405-077909d36828",
   "metadata": {},
   "source": [
    "## ___división___ ***división***"
   ]
  },
  {
   "cell_type": "code",
   "execution_count": 4,
   "id": "f7bd0ebe-b7ae-4d4c-b8a7-15f0d8716323",
   "metadata": {},
   "outputs": [
    {
     "data": {
      "text/plain": [
       "41.0"
      ]
     },
     "execution_count": 4,
     "metadata": {},
     "output_type": "execute_result"
    }
   ],
   "source": [
    "369 / 9"
   ]
  },
  {
   "cell_type": "markdown",
   "id": "9603d444-fb32-4cb1-87d8-859a734e3750",
   "metadata": {},
   "source": [
    "## ~~varios~~"
   ]
  },
  {
   "cell_type": "code",
   "execution_count": 5,
   "id": "b58be52e-bb74-4afc-b78d-6fdfdb85b8ea",
   "metadata": {},
   "outputs": [
    {
     "data": {
      "text/plain": [
       "27"
      ]
     },
     "execution_count": 5,
     "metadata": {},
     "output_type": "execute_result"
    }
   ],
   "source": [
    "3 ** 3"
   ]
  },
  {
   "cell_type": "code",
   "execution_count": 12,
   "id": "78cf96b7-1a8f-43e8-bdd1-d1b8f84113d9",
   "metadata": {},
   "outputs": [],
   "source": [
    "r = 41 * 2"
   ]
  },
  {
   "cell_type": "code",
   "execution_count": 13,
   "id": "4d2e9067-53ba-40c6-aa6f-7e50bc87037f",
   "metadata": {},
   "outputs": [],
   "source": [
    "r2 = r + 18"
   ]
  },
  {
   "cell_type": "code",
   "execution_count": 14,
   "id": "6c7f65bf-1f17-402f-8824-b796b51ba0ef",
   "metadata": {},
   "outputs": [
    {
     "data": {
      "text/plain": [
       "100"
      ]
     },
     "execution_count": 14,
     "metadata": {},
     "output_type": "execute_result"
    }
   ],
   "source": [
    "r2 "
   ]
  },
  {
   "cell_type": "markdown",
   "id": "8d497e14-7801-4e5a-8048-fcef413bd3cb",
   "metadata": {},
   "source": [
    ">Dice el sabio: \\*las estrellas son enormes y pequeñas al mismo tiempo\\*"
   ]
  },
  {
   "cell_type": "markdown",
   "id": "07806315-00d7-4227-8a07-45454cc7aedf",
   "metadata": {},
   "source": [
    "1. las experiencias son como las estrellas"
   ]
  },
  {
   "cell_type": "markdown",
   "id": "b8d8597b-850d-4aa4-b5fa-05f80aef3789",
   "metadata": {},
   "source": [
    "[ ] No"
   ]
  },
  {
   "cell_type": "markdown",
   "id": "a9cdf6c0-b07c-43d9-9a14-c95895d8d60b",
   "metadata": {},
   "source": [
    "[x] Si"
   ]
  },
  {
   "cell_type": "markdown",
   "id": "f4ffbbdc-9ab2-4038-a425-27b6313bbcf8",
   "metadata": {},
   "source": [
    "[ ] Quizás"
   ]
  },
  {
   "cell_type": "markdown",
   "id": "8fee7295-742c-4e01-8250-4e5f4dcc5f00",
   "metadata": {},
   "source": [
    "|Animal|Nivel de cuteness|\n",
    "|--------|--------|\n",
    "|    gato    |    100 %   |\n",
    "|    perro    |    100 %  |"
   ]
  },
  {
   "cell_type": "markdown",
   "id": "98322c50-4596-40e4-8b0d-f078f092b1eb",
   "metadata": {},
   "source": [
    "![Dino](file:///Users/nicolakorff/Desktop/dino.jpeg)"
   ]
  },
  {
   "cell_type": "markdown",
   "id": "810f7a68-5c8e-4f2f-a707-2b00514e1fe6",
   "metadata": {},
   "source": [
    "Hasta pronto!"
   ]
  }
 ],
 "metadata": {
  "kernelspec": {
   "display_name": "Python 3 (ipykernel)",
   "language": "python",
   "name": "python3"
  },
  "language_info": {
   "codemirror_mode": {
    "name": "ipython",
    "version": 3
   },
   "file_extension": ".py",
   "mimetype": "text/x-python",
   "name": "python",
   "nbconvert_exporter": "python",
   "pygments_lexer": "ipython3",
   "version": "3.12.4"
  }
 },
 "nbformat": 4,
 "nbformat_minor": 5
}
